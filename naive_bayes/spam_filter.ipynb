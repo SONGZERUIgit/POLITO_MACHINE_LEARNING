{
 "cells": [
  {
   "cell_type": "code",
   "execution_count": 1,
   "metadata": {},
   "outputs": [
    {
     "name": "stdout",
     "output_type": "stream",
     "text": [
      "[[708 167]\n",
      " [ 25 246]]\n"
     ]
    }
   ],
   "source": [
    "import numpy as np\n",
    "import pandas as pd\n",
    "from sklearn.model_selection import train_test_split\n",
    "from sklearn.metrics import confusion_matrix\n",
    "class Naive_Bayes:\n",
    "    def __init__(self):\n",
    "        pass\n",
    "    def get_data(self):\n",
    "        with open('dictionary.txt', 'r') as f:\n",
    "            data = f.read().splitlines()\n",
    "        email = pd.read_csv('emails.csv')\n",
    "        m = len(data)\n",
    "        n = len(email.values)\n",
    "        value = email.values[:, 0]\n",
    "        X = np.zeros([n, m])\n",
    "        for word in data:\n",
    "            for j in range(n):\n",
    "                if word in value[j]:\n",
    "                    X[j, data.index(word)] = 1\n",
    "        y = email.values[:, 1]\n",
    "        return X, y.T\n",
    "    def fit(self,X_train,y_train):\n",
    "        m,n=np.shape(X_train)\n",
    "        y_train=list(y_train)\n",
    "        self._pc0=y_train.count(0)/m\n",
    "        self._pc1=y_train.count(1)/m\n",
    "        a={}\n",
    "        for i in range(m):\n",
    "            if y_train[i] in a.keys():\n",
    "                a[y_train[i]].append(i)\n",
    "            else:\n",
    "                a[y_train[i]] = [i]\n",
    "        X0=X_train[a[0]][:]\n",
    "        X1=X_train[a[1]][:]\n",
    "        d=np.zeros([4,n])\n",
    "        for k in range(n):\n",
    "            zeta0=list(X0[:,k])\n",
    "            zeta1 = list(X1[:, k])\n",
    "            d[0,k]=(zeta0.count(0)+1)/(len(zeta0)+2)\n",
    "            d[1,k]=(zeta0.count(1)+1)/(len(zeta0)+2)\n",
    "            d[2,k]=(zeta1.count(0)+1)/(len(zeta1)+2)\n",
    "            d[3,k]=(zeta1.count(1)+1)/(len(zeta1)+2)\n",
    "        self._d=d\n",
    "        return d\n",
    "    def pre(self,X_test):\n",
    "        m,n=np.shape(X_test)\n",
    "\n",
    "        y_pre=np.zeros([m,1])\n",
    "        for i in range(m):\n",
    "            pc1 = self._pc1\n",
    "            pc0 = self._pc0\n",
    "            for j in range(n):\n",
    "                if X_test[i,j]==0:\n",
    "                    pc0*=self._d[0,j]\n",
    "                    pc1*=self._d[2,j]\n",
    "                else:\n",
    "                    pc0*=self._d[1,j]\n",
    "                    pc1*=self._d[3,j]\n",
    "            if pc0>=pc1:\n",
    "                y_pre[i,0]=0\n",
    "            else:\n",
    "                y_pre[i,0]=1\n",
    "        return y_pre\n",
    "if __name__ == '__main__':\n",
    "    a=Naive_Bayes()\n",
    "    X,y=a.get_data()\n",
    "    y=list(y)\n",
    "    X_train,X_test,y_train,y_test=train_test_split(X,y,test_size=0.2)\n",
    "    a.fit(X_train,y_train)\n",
    "    y_pre=a.pre(X_test)\n",
    "    print(confusion_matrix(y_true=y_test,y_pred=y_pre))"
   ]
  },
  {
   "cell_type": "code",
   "execution_count": null,
   "metadata": {},
   "outputs": [],
   "source": []
  }
 ],
 "metadata": {
  "kernelspec": {
   "display_name": "Python 3",
   "language": "python",
   "name": "python3"
  },
  "language_info": {
   "codemirror_mode": {
    "name": "ipython",
    "version": 3
   },
   "file_extension": ".py",
   "mimetype": "text/x-python",
   "name": "python",
   "nbconvert_exporter": "python",
   "pygments_lexer": "ipython3",
   "version": "3.8.3"
  }
 },
 "nbformat": 4,
 "nbformat_minor": 4
}
