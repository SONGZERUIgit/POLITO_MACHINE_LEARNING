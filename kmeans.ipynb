{
  "nbformat": 4,
  "nbformat_minor": 0,
  "metadata": {
    "colab": {
      "name": "kmeans.ipynb",
      "provenance": [],
      "authorship_tag": "ABX9TyNffyjx2bXTo7H3dDNbDP0a",
      "include_colab_link": true
    },
    "kernelspec": {
      "name": "python3",
      "display_name": "Python 3"
    },
    "language_info": {
      "name": "python"
    }
  },
  "cells": [
    {
      "cell_type": "markdown",
      "metadata": {
        "id": "view-in-github",
        "colab_type": "text"
      },
      "source": [
        "<a href=\"https://colab.research.google.com/github/SONGZERUIgit/POLITO_MACHINE_LEARNING/blob/main/kmeans.ipynb\" target=\"_parent\"><img src=\"https://colab.research.google.com/assets/colab-badge.svg\" alt=\"Open In Colab\"/></a>"
      ]
    },
    {
      "cell_type": "code",
      "metadata": {
        "id": "ImYqmVLhtrV3"
      },
      "source": [
        "import numpy as np"
      ],
      "execution_count": 87,
      "outputs": []
    },
    {
      "cell_type": "code",
      "metadata": {
        "id": "CnUoIMC70Vx0"
      },
      "source": [
        "def kmeans(data,k,maxIter):\n",
        "  center=initial(data,k)\n",
        "  for _ in range(maxIter):\n",
        "    cluster=fenpei(data,center)\n",
        "    center1=center\n",
        "    center=np.array(data)[new_center(data,cluster,k)]\n",
        "  return cluster"
      ],
      "execution_count": 88,
      "outputs": []
    },
    {
      "cell_type": "code",
      "metadata": {
        "id": "BbErAq7e4Hno"
      },
      "source": [
        "import random\n",
        "def initial(data,k):\n",
        "  num=[]\n",
        "  data=np.array(data)\n",
        "  for i in range(len(data)):\n",
        "    num.append(i)\n",
        "  centers=random.sample(num,k)\n",
        "  return data[centers]\n"
      ],
      "execution_count": 89,
      "outputs": []
    },
    {
      "cell_type": "code",
      "metadata": {
        "id": "X31tl6Y57ttt"
      },
      "source": [
        "def fenpei(data,center):\n",
        "  res=[]\n",
        "  for i in range(len(data)):\n",
        "    dis=[]\n",
        "    for j in range(len(center)):\n",
        "      dis.append(distance(data[i],center[j]))\n",
        "    index=dis.index(min(dis))\n",
        "    res.append(index)\n",
        "  return res"
      ],
      "execution_count": 90,
      "outputs": []
    },
    {
      "cell_type": "code",
      "metadata": {
        "id": "on5HvHfJ-T_A"
      },
      "source": [
        "def distance(data1,data2):\n",
        "  dis=0\n",
        "  for i in range(len(data1)):\n",
        "    dis+=pow((data1[i]-data2[i]),2)\n",
        "  return np.sqrt(dis)\n"
      ],
      "execution_count": 91,
      "outputs": []
    },
    {
      "cell_type": "code",
      "metadata": {
        "id": "x2_5PoPO_uPW"
      },
      "source": [
        "def new_center(data,cluster,k):\n",
        "  data=np.array(data)\n",
        "  center=[]\n",
        "  for i in range(k):\n",
        "    temp=np.where(np.array(cluster)==i)\n",
        "    res=data[temp]\n",
        "    center1=compare(res,temp)\n",
        "    center.append(center1)\n",
        "  return center\n",
        "\n",
        "\n",
        "\n"
      ],
      "execution_count": 102,
      "outputs": []
    },
    {
      "cell_type": "code",
      "metadata": {
        "id": "Xp7I7ltK7ir2"
      },
      "source": [
        "def compare(data,temp1):\n",
        "  a=len(data)\n",
        "  temp=np.zeros([a,a])\n",
        "  for i in range(a):\n",
        "    for j in range(a):\n",
        "      temp[i,j]=distance(data[i],data[j])\n",
        "  res=[]\n",
        "  for i in range(a):\n",
        "    res.append(np.mean(temp[i]))\n",
        "  index=np.where(np.array(res)==min(res))\n",
        "  index=temp1[0][index[0][0]]\n",
        "  return index"
      ],
      "execution_count": 101,
      "outputs": []
    },
    {
      "cell_type": "code",
      "metadata": {
        "id": "coaJaBlIBmQ1"
      },
      "source": [
        "data=[[1,2],[4,6],[11,1],[20,1]]"
      ],
      "execution_count": 103,
      "outputs": []
    },
    {
      "cell_type": "code",
      "metadata": {
        "colab": {
          "base_uri": "https://localhost:8080/"
        },
        "id": "4GanmJFMiThu",
        "outputId": "5a10932d-fa20-4fdd-f578-abc9a73148bf"
      },
      "source": [
        ""
      ],
      "execution_count": 55,
      "outputs": [
        {
          "output_type": "execute_result",
          "data": {
            "text/plain": [
              "[2]"
            ]
          },
          "metadata": {
            "tags": []
          },
          "execution_count": 55
        }
      ]
    },
    {
      "cell_type": "code",
      "metadata": {
        "colab": {
          "base_uri": "https://localhost:8080/"
        },
        "id": "35WtuVsY6mzV",
        "outputId": "461143c0-50f9-41c6-951d-d456ec052deb"
      },
      "source": [
        ""
      ],
      "execution_count": 28,
      "outputs": [
        {
          "output_type": "execute_result",
          "data": {
            "text/plain": [
              "(array([0, 2]),)"
            ]
          },
          "metadata": {
            "tags": []
          },
          "execution_count": 28
        }
      ]
    },
    {
      "cell_type": "code",
      "metadata": {
        "colab": {
          "base_uri": "https://localhost:8080/"
        },
        "id": "56R_fy3q8uR9",
        "outputId": "479f8012-a971-4056-90ad-7345f6f6c328"
      },
      "source": [
        ""
      ],
      "execution_count": 26,
      "outputs": [
        {
          "output_type": "execute_result",
          "data": {
            "text/plain": [
              "False"
            ]
          },
          "metadata": {
            "tags": []
          },
          "execution_count": 26
        }
      ]
    },
    {
      "cell_type": "code",
      "metadata": {
        "colab": {
          "base_uri": "https://localhost:8080/"
        },
        "id": "8dEKYJGQjoC1",
        "outputId": "af210e68-ee66-4384-82fd-de45d6447bee"
      },
      "source": [
        "kmeans(data,2,100)"
      ],
      "execution_count": 109,
      "outputs": [
        {
          "output_type": "execute_result",
          "data": {
            "text/plain": [
              "[0, 0, 1, 1]"
            ]
          },
          "metadata": {
            "tags": []
          },
          "execution_count": 109
        }
      ]
    },
    {
      "cell_type": "code",
      "metadata": {
        "colab": {
          "base_uri": "https://localhost:8080/"
        },
        "id": "6gtGi5Smjwg8",
        "outputId": "3d6ee105-90e2-4b25-85fe-5d5310c72d43"
      },
      "source": [
        ""
      ],
      "execution_count": 61,
      "outputs": [
        {
          "output_type": "execute_result",
          "data": {
            "text/plain": [
              "[1, 1, 0, 0]"
            ]
          },
          "metadata": {
            "tags": []
          },
          "execution_count": 61
        }
      ]
    },
    {
      "cell_type": "code",
      "metadata": {
        "colab": {
          "base_uri": "https://localhost:8080/",
          "height": 131
        },
        "id": "__toWkw5kgSR",
        "outputId": "432338d7-6c87-441b-bd43-68b62b7c7167"
      },
      "source": [
        "\n"
      ],
      "execution_count": 100,
      "outputs": [
        {
          "output_type": "error",
          "ename": "SyntaxError",
          "evalue": "ignored",
          "traceback": [
            "\u001b[0;36m  File \u001b[0;32m\"<ipython-input-100-df34e0ed665c>\"\u001b[0;36m, line \u001b[0;32m2\u001b[0m\n\u001b[0;31m    np.array(data)][[[0]]\u001b[0m\n\u001b[0m                  ^\u001b[0m\n\u001b[0;31mSyntaxError\u001b[0m\u001b[0;31m:\u001b[0m invalid syntax\n"
          ]
        }
      ]
    }
  ]
}